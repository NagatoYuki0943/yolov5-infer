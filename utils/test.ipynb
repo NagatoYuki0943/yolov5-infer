{
 "cells": [
  {
   "cell_type": "code",
   "execution_count": 1,
   "metadata": {},
   "outputs": [],
   "source": [
    "import numpy as np"
   ]
  },
  {
   "cell_type": "code",
   "execution_count": 2,
   "metadata": {},
   "outputs": [],
   "source": [
    "def nms(detections: np.ndarray, confidence_threshold: float=0.25) -> list:\n",
    "    \"\"\"后处理\n",
    "\n",
    "    Args:\n",
    "        detections (np.ndarray): 检测到的数据 [25200, 85]\n",
    "        confidence_threshold (float): prediction[4] 是否有物体得分阈值\n",
    "    \"\"\"\n",
    "    boxes = []  # [[xmin, ymin, w, h]]\n",
    "    class_ids = []\n",
    "    confidences = []\n",
    "    for prediction in detections:\n",
    "        confidence = prediction[4].item()           # 是否有物体得分\n",
    "        if confidence >= confidence_threshold:      # 是否有物体预支\n",
    "            classes_scores = prediction[5:]         # 取出所有类别id\n",
    "            class_id = np.argmax(classes_scores)    # 找到概率最大的id\n",
    "            if (classes_scores[class_id] > .25):    # 最大概率必须大于 0.25\n",
    "                confidences.append(confidence)      # 保存置信度(注意保存的是confidence，不是classes_scores[class_id]),类别id,box\n",
    "                class_ids.append(class_id)\n",
    "                # center_x, center_y, w, h\n",
    "                x, y, w, h = prediction[0].item(), prediction[1].item(), prediction[2].item(), prediction[3].item()\n",
    "                xmin = x - (w / 2)\n",
    "                ymin = y - (h / 2)\n",
    "                box = [xmin, ymin, w, h]\n",
    "                boxes.append(box)"
   ]
  },
  {
   "cell_type": "code",
   "execution_count": 7,
   "metadata": {},
   "outputs": [],
   "source": [
    "def nms1(detections: np.ndarray, confidence_threshold: float=0.25) -> list:\n",
    "    \"\"\"后处理\n",
    "\n",
    "    Args:\n",
    "        detections (np.ndarray): 检测到的数据 [25200, 85]\n",
    "        confidence_threshold (float): prediction[4] 是否有物体得分阈值\n",
    "        score_threshold (float):      nms分类得分阈值\n",
    "        nms_threshold (float):        非极大值抑制iou阈值\n",
    "    \"\"\"\n",
    "    # 通过置信度过滤一部分框\n",
    "    detections = detections[detections[:, 4] > confidence_threshold]\n",
    "    # 置信度\n",
    "    confidence = detections[:, 4]\n",
    "    # 位置坐标\n",
    "    loc = detections[:, :4]\n",
    "    # 分类\n",
    "    cls = detections[:, 5:]\n",
    "    # 最大分类index\n",
    "    max_index = cls.argmax(axis=-1)\n",
    "    # 最大分类score\n",
    "    max_cls_score = cls.max(axis=-1)\n",
    "    # 置信度    (n,)\n",
    "    confidences = confidence[max_cls_score > .25]\n",
    "    # 类别index (n,)\n",
    "    class_ids = max_index[max_cls_score > .25]\n",
    "    # 位置      (n, 4)\n",
    "    boxes = loc[max_cls_score > .25]\n",
    "    # center_x, center_y, w, h -> x_min, y_min, w, h\n",
    "    boxes[:, 0] -= boxes[:, 2] / 2\n",
    "    boxes[:, 1] -= boxes[:, 3] / 2"
   ]
  },
  {
   "cell_type": "code",
   "execution_count": 8,
   "metadata": {},
   "outputs": [
    {
     "data": {
      "text/plain": [
       "(25200, 85)"
      ]
     },
     "execution_count": 8,
     "metadata": {},
     "output_type": "execute_result"
    }
   ],
   "source": [
    "x = np.random.normal(0, 1, (25200, 85))\n",
    "x.shape"
   ]
  },
  {
   "cell_type": "code",
   "execution_count": 9,
   "metadata": {},
   "outputs": [
    {
     "name": "stdout",
     "output_type": "stream",
     "text": [
      "60.8 ms ± 1.25 ms per loop (mean ± std. dev. of 7 runs, 10 loops each)\n"
     ]
    }
   ],
   "source": [
    "%timeit nms(x)"
   ]
  },
  {
   "cell_type": "code",
   "execution_count": 10,
   "metadata": {},
   "outputs": [
    {
     "name": "stdout",
     "output_type": "stream",
     "text": [
      "7.51 ms ± 350 µs per loop (mean ± std. dev. of 7 runs, 100 loops each)\n"
     ]
    }
   ],
   "source": [
    "%timeit nms1(x)"
   ]
  },
  {
   "cell_type": "code",
   "execution_count": 71,
   "metadata": {},
   "outputs": [],
   "source": [
    "detections = x"
   ]
  },
  {
   "cell_type": "code",
   "execution_count": 72,
   "metadata": {},
   "outputs": [
    {
     "data": {
      "text/plain": [
       "(10050, 85)"
      ]
     },
     "execution_count": 72,
     "metadata": {},
     "output_type": "execute_result"
    }
   ],
   "source": [
    "detections = detections[detections[:, 4] > 0.25]\n",
    "detections.shape"
   ]
  },
  {
   "cell_type": "code",
   "execution_count": 73,
   "metadata": {},
   "outputs": [
    {
     "data": {
      "text/plain": [
       "(10050,)"
      ]
     },
     "execution_count": 73,
     "metadata": {},
     "output_type": "execute_result"
    }
   ],
   "source": [
    "confidence = detections[:, 4]\n",
    "confidence.shape"
   ]
  },
  {
   "cell_type": "code",
   "execution_count": 74,
   "metadata": {},
   "outputs": [
    {
     "data": {
      "text/plain": [
       "(10050, 4)"
      ]
     },
     "execution_count": 74,
     "metadata": {},
     "output_type": "execute_result"
    }
   ],
   "source": [
    "loc = detections[:, :4]\n",
    "loc.shape"
   ]
  },
  {
   "cell_type": "code",
   "execution_count": 75,
   "metadata": {},
   "outputs": [
    {
     "data": {
      "text/plain": [
       "(10050, 80)"
      ]
     },
     "execution_count": 75,
     "metadata": {},
     "output_type": "execute_result"
    }
   ],
   "source": [
    "cls = detections[:, 5:]\n",
    "cls.shape"
   ]
  },
  {
   "cell_type": "code",
   "execution_count": 83,
   "metadata": {},
   "outputs": [
    {
     "data": {
      "text/plain": [
       "((10050,), array([54, 35, 57, 58, 16, 52, 65, 26, 21, 49], dtype=int64))"
      ]
     },
     "execution_count": 83,
     "metadata": {},
     "output_type": "execute_result"
    }
   ],
   "source": [
    "max_index = cls.argmax(axis=-1)\n",
    "max_index.shape, max_index[:10]"
   ]
  },
  {
   "cell_type": "code",
   "execution_count": 87,
   "metadata": {},
   "outputs": [
    {
     "data": {
      "text/plain": [
       "(10050,)"
      ]
     },
     "execution_count": 87,
     "metadata": {},
     "output_type": "execute_result"
    }
   ],
   "source": [
    "cls[:, 0].shape"
   ]
  },
  {
   "cell_type": "code",
   "execution_count": 77,
   "metadata": {},
   "outputs": [
    {
     "data": {
      "text/plain": [
       "(10050,)"
      ]
     },
     "execution_count": 77,
     "metadata": {},
     "output_type": "execute_result"
    }
   ],
   "source": [
    "max_cls_score = cls.max(axis=-1)\n",
    "max_cls_score.shape"
   ]
  },
  {
   "cell_type": "code",
   "execution_count": 78,
   "metadata": {},
   "outputs": [
    {
     "data": {
      "text/plain": [
       "(1069,)"
      ]
     },
     "execution_count": 78,
     "metadata": {},
     "output_type": "execute_result"
    }
   ],
   "source": [
    "# 置信度\n",
    "confidence[max_cls_score > 3].shape"
   ]
  },
  {
   "cell_type": "code",
   "execution_count": 62,
   "metadata": {},
   "outputs": [
    {
     "data": {
      "text/plain": [
       "(986,)"
      ]
     },
     "execution_count": 62,
     "metadata": {},
     "output_type": "execute_result"
    }
   ],
   "source": [
    "# 类别index\n",
    "max_index[max_cls_score > 3].shape"
   ]
  },
  {
   "cell_type": "code",
   "execution_count": 63,
   "metadata": {},
   "outputs": [
    {
     "data": {
      "text/plain": [
       "(986, 4)"
      ]
     },
     "execution_count": 63,
     "metadata": {},
     "output_type": "execute_result"
    }
   ],
   "source": [
    "loc[max_cls_score > 3].shape"
   ]
  },
  {
   "cell_type": "code",
   "execution_count": null,
   "metadata": {},
   "outputs": [],
   "source": []
  }
 ],
 "metadata": {
  "kernelspec": {
   "display_name": "pytorch",
   "language": "python",
   "name": "python3"
  },
  "language_info": {
   "codemirror_mode": {
    "name": "ipython",
    "version": 3
   },
   "file_extension": ".py",
   "mimetype": "text/x-python",
   "name": "python",
   "nbconvert_exporter": "python",
   "pygments_lexer": "ipython3",
   "version": "3.10.9"
  },
  "orig_nbformat": 4
 },
 "nbformat": 4,
 "nbformat_minor": 2
}
