{
 "cells": [
  {
   "cell_type": "code",
   "execution_count": 1,
   "metadata": {},
   "outputs": [],
   "source": [
    "import numpy as np\n",
    "import cv2"
   ]
  },
  {
   "cell_type": "code",
   "execution_count": 11,
   "metadata": {},
   "outputs": [],
   "source": [
    "def nms(detections: np.ndarray, confidence_threshold: float=0.25, score_threshold: float=0.2, nms_threshold: float=0.45) -> list:\n",
    "    \"\"\"后处理\n",
    "\n",
    "    Args:\n",
    "        detections (np.ndarray):                检测到的数据 [25200, 85]\n",
    "        confidence_threshold (float, optional): prediction[4] 是否有物体得分阈值. Defaults to 0.25.\n",
    "        score_threshold (float, optional):      nms分类得分阈值. Defaults to 0.2.\n",
    "        nms_threshold (float, optional):        非极大值抑制iou阈值. Defaults to 0.45.\n",
    "\n",
    "    \"\"\"\n",
    "    boxes = []  # [[xmin, ymin, w, h]]\n",
    "    class_ids = []\n",
    "    confidences = []\n",
    "    for prediction in detections:\n",
    "        confidence = prediction[4].item()           # 是否有物体得分\n",
    "        if confidence >= confidence_threshold:      # 是否有物体预支\n",
    "            classes_scores = prediction[5:]         # 取出所有类别id\n",
    "            class_id = np.argmax(classes_scores)    # 找到概率最大的id\n",
    "            if (classes_scores[class_id] > .25):    # 最大概率必须大于 0.25\n",
    "                confidences.append(confidence)      # 保存置信度(注意保存的是confidence，不是classes_scores[class_id]),类别id,box\n",
    "                class_ids.append(class_id)\n",
    "                # center_x, center_y, w, h\n",
    "                x, y, w, h = prediction[0].item(), prediction[1].item(), prediction[2].item(), prediction[3].item()\n",
    "                xmin = x - (w / 2)\n",
    "                ymin = y - (h / 2)\n",
    "                box = [xmin, ymin, w, h]\n",
    "                boxes.append(box)\n",
    "\n",
    "    # nms\n",
    "    indexes = cv2.dnn.NMSBoxes(boxes, confidences, score_threshold, nms_threshold)\n",
    "    # t3 = time.time()\n",
    "\n",
    "    # 根据nms返回的id获取对应的类别,置信度,box\n",
    "    detections = []\n",
    "    for i in indexes:\n",
    "        j = i.item()\n",
    "        boxes[j][2] += boxes[j][0] # w -> xmax\n",
    "        boxes[j][3] += boxes[j][1] # h -> ymax\n",
    "        detections.append({\"class_index\": class_ids[j], \"confidence\": confidences[j], \"box\": boxes[j]})\n",
    "    # t4 = time.time()\n",
    "\n",
    "    # print((t2 - t1)*1000, (t3 - t2)*1000, (t4 - t3)*1000)\n",
    "    # 16.954421997070312 0.0 0.0 主要时间花在了遍历所有的框上面\n",
    "\n",
    "    return detections"
   ]
  },
  {
   "cell_type": "code",
   "execution_count": 12,
   "metadata": {},
   "outputs": [],
   "source": [
    "def nms1(detections: np.ndarray, confidence_threshold: float=0.25, score_threshold: float=0.2, nms_threshold: float=0.45) -> np.ndarray:\n",
    "    \"\"\"后处理\n",
    "\n",
    "    Args:\n",
    "        detections (np.ndarray):                检测到的数据 [25200, 85]\n",
    "        confidence_threshold (float, optional): prediction[4] 是否有物体得分阈值. Defaults to 0.25.\n",
    "        score_threshold (float, optional):      nms分类得分阈值. Defaults to 0.2.\n",
    "        nms_threshold (float, optional):        非极大值抑制iou阈值. Defaults to 0.45.\n",
    "\n",
    "    Returns:\n",
    "        np.ndarray:\n",
    "            [\n",
    "                [class_index, confidences, xmin, ymin, xmax, ymax], np.float32\n",
    "                ...\n",
    "            ]\n",
    "    \"\"\"\n",
    "    # boxes = []  # [[xmin, ymin, w, h]]\n",
    "    # class_ids = []\n",
    "    # confidences = []\n",
    "    # 循环25200次,很慢,大约12ms\n",
    "    # for prediction in detections:\n",
    "    #     confidence = prediction[4].item()           # 是否有物体得分\n",
    "    #     if confidence >= confidence_threshold:      # 是否有物体预支\n",
    "    #         classes_scores = prediction[5:]         # 取出所有类别id\n",
    "    #         class_id = np.argmax(classes_scores)    # 找到概率最大的id\n",
    "    #         if (classes_scores[class_id] > .25):    # 最大概率必须大于 0.25\n",
    "    #             confidences.append(confidence)      # 保存置信度(注意保存的是confidence，不是classes_scores[class_id]),类别id,box\n",
    "    #             class_ids.append(class_id)\n",
    "    #             # center_x, center_y, w, h\n",
    "    #             x, y, w, h = prediction[0].item(), prediction[1].item(), prediction[2].item(), prediction[3].item()\n",
    "    #             xmin = x - (w / 2)\n",
    "    #             ymin = y - (h / 2)\n",
    "    #             box = [xmin, ymin, w, h]\n",
    "    #             boxes.append(box)\n",
    "\n",
    "    # 加速优化写法\n",
    "    # 通过置信度过滤一部分框\n",
    "    detections = detections[detections[:, 4] > confidence_threshold]\n",
    "    # 位置坐标\n",
    "    loc = detections[:, :4]\n",
    "    # 置信度\n",
    "    confidences = detections[:, 4]\n",
    "    # 分类\n",
    "    cls = detections[:, 5:]\n",
    "    # 最大分类index\n",
    "    max_cls_index = cls.argmax(axis=-1)\n",
    "    # 最大分类score\n",
    "    max_cls_score = cls.max(axis=-1)\n",
    "    # 置信度\n",
    "    confidences = confidences[max_cls_score > .25]\n",
    "    # 类别index\n",
    "    class_index = max_cls_index[max_cls_score > .25]\n",
    "    # 位置\n",
    "    boxes = loc[max_cls_score > .25]\n",
    "    # [center_x, center_y, w, h] -> [x_min, y_min, w, h]\n",
    "    boxes[:, 0] -= boxes[:, 2] / 2\n",
    "    boxes[:, 1] -= boxes[:, 3] / 2\n",
    "\n",
    "    # nms\n",
    "    indexes = cv2.dnn.NMSBoxes(boxes, confidences, score_threshold, nms_threshold)\n",
    "\n",
    "    # 根据nms返回的id获取对应的类别,置信度,box\n",
    "    # detections = []\n",
    "    # for i in indexes:\n",
    "    #     j = i.item()\n",
    "    #     boxes[j][2] += boxes[j][0] # w -> xmax\n",
    "    #     boxes[j][3] += boxes[j][1] # h -> ymax\n",
    "    #     detections.append({\"class_index\": class_index[j], \"confidence\": confidences[j], \"box\": boxes[j]})\n",
    "\n",
    "    boxes[indexes, 2] += boxes[indexes, 0]  # w -> xmax\n",
    "    boxes[indexes, 3] += boxes[indexes, 1]  # h -> ymax\n",
    "    # [\n",
    "    #   [class_index, confidences, xmin, ymin, xmax, ymax],\n",
    "    #   ...\n",
    "    # ]\n",
    "    detections = np.concatenate((np.expand_dims(class_index[indexes], 1), np.expand_dims(confidences[indexes], 1), boxes[indexes]), axis=-1)\n",
    "\n",
    "    return detections"
   ]
  },
  {
   "cell_type": "code",
   "execution_count": 13,
   "metadata": {},
   "outputs": [
    {
     "data": {
      "text/plain": [
       "(25200, 85)"
      ]
     },
     "execution_count": 13,
     "metadata": {},
     "output_type": "execute_result"
    }
   ],
   "source": [
    "x = np.random.normal(0, 1, (25200, 85))\n",
    "x.shape"
   ]
  },
  {
   "cell_type": "code",
   "execution_count": null,
   "metadata": {},
   "outputs": [],
   "source": [
    "%timeit nms(x, 0.25, 0.2, 0.45)"
   ]
  },
  {
   "cell_type": "code",
   "execution_count": 14,
   "metadata": {},
   "outputs": [
    {
     "name": "stdout",
     "output_type": "stream",
     "text": [
      "1011 [  21 4043 6820 ... 3661  333 7888]\n"
     ]
    }
   ],
   "source": [
    "r = nms(x, 0.25, 0.2, 0.45)"
   ]
  },
  {
   "cell_type": "code",
   "execution_count": null,
   "metadata": {},
   "outputs": [],
   "source": [
    "%timeit nms1(x, 0.25, 0.2, 0.45)"
   ]
  },
  {
   "cell_type": "code",
   "execution_count": 15,
   "metadata": {},
   "outputs": [
    {
     "name": "stdout",
     "output_type": "stream",
     "text": [
      "1011 [  21 4043 6820 ... 3661  333 7888]\n"
     ]
    }
   ],
   "source": [
    "r = nms1(x, 0.25, 0.2, 0.45)"
   ]
  },
  {
   "cell_type": "code",
   "execution_count": 29,
   "metadata": {},
   "outputs": [
    {
     "data": {
      "text/plain": [
       "(25200, 85)"
      ]
     },
     "execution_count": 29,
     "metadata": {},
     "output_type": "execute_result"
    }
   ],
   "source": [
    "detections = x\n",
    "detections.shape"
   ]
  },
  {
   "cell_type": "code",
   "execution_count": 30,
   "metadata": {},
   "outputs": [
    {
     "data": {
      "text/plain": [
       "(10013, 85)"
      ]
     },
     "execution_count": 30,
     "metadata": {},
     "output_type": "execute_result"
    }
   ],
   "source": [
    "# 通过置信度过滤一部分框\n",
    "detections = detections[detections[:, 4] > 0.25]\n",
    "detections.shape"
   ]
  },
  {
   "cell_type": "code",
   "execution_count": 31,
   "metadata": {},
   "outputs": [
    {
     "data": {
      "text/plain": [
       "(10013,)"
      ]
     },
     "execution_count": 31,
     "metadata": {},
     "output_type": "execute_result"
    }
   ],
   "source": [
    "# 置信度\n",
    "confidences = detections[:, 4]\n",
    "confidences.shape"
   ]
  },
  {
   "cell_type": "code",
   "execution_count": 32,
   "metadata": {},
   "outputs": [
    {
     "data": {
      "text/plain": [
       "((10013, 4), (10013, 80))"
      ]
     },
     "execution_count": 32,
     "metadata": {},
     "output_type": "execute_result"
    }
   ],
   "source": [
    "# 位置坐标\n",
    "loc = detections[:, :4]\n",
    "# 分类\n",
    "cls = detections[:, 5:]\n",
    "loc.shape, cls.shape"
   ]
  },
  {
   "cell_type": "code",
   "execution_count": 34,
   "metadata": {},
   "outputs": [
    {
     "data": {
      "text/plain": [
       "((10013,), (10013,))"
      ]
     },
     "execution_count": 34,
     "metadata": {},
     "output_type": "execute_result"
    }
   ],
   "source": [
    "# 最大分类index\n",
    "max_cls_index = cls.argmax(axis=-1)\n",
    "# 最大分类score\n",
    "max_cls_score = cls.max(axis=-1)\n",
    "max_cls_index.shape, max_cls_score.shape"
   ]
  },
  {
   "cell_type": "code",
   "execution_count": 41,
   "metadata": {},
   "outputs": [
    {
     "data": {
      "text/plain": [
       "((10013,), (10013,), (10013, 4))"
      ]
     },
     "execution_count": 41,
     "metadata": {},
     "output_type": "execute_result"
    }
   ],
   "source": [
    "# 置信度    (n,)\n",
    "confidences = confidences[max_cls_score > .25]\n",
    "# 类别index (n,)\n",
    "class_index = max_cls_index[max_cls_score > .25]\n",
    "# 位置      (n, 4)\n",
    "boxes = loc[max_cls_score > .25]\n",
    "confidences.shape, class_index.shape, boxes.shape"
   ]
  },
  {
   "cell_type": "code",
   "execution_count": 42,
   "metadata": {},
   "outputs": [],
   "source": [
    "# [center_x, center_y, w, h] -> [x_min, y_min, w, h]\n",
    "boxes[:, 0] -= boxes[:, 2] / 2\n",
    "boxes[:, 1] -= boxes[:, 3] / 2"
   ]
  },
  {
   "cell_type": "code",
   "execution_count": 43,
   "metadata": {},
   "outputs": [
    {
     "name": "stdout",
     "output_type": "stream",
     "text": [
      "1011 [  21 4043 6820 ... 3661  333 7888]\n"
     ]
    }
   ],
   "source": [
    "# nms\n",
    "indexes = cv2.dnn.NMSBoxes(boxes, confidences, 0.2, 0.45)\n",
    "print(len(indexes), indexes)"
   ]
  },
  {
   "cell_type": "code",
   "execution_count": 46,
   "metadata": {},
   "outputs": [
    {
     "data": {
      "text/plain": [
       "1011"
      ]
     },
     "execution_count": 46,
     "metadata": {},
     "output_type": "execute_result"
    }
   ],
   "source": [
    "# 根据nms返回的id获取对应的类别,置信度,box\n",
    "detections = []\n",
    "for i in indexes:\n",
    "    j = i.item()\n",
    "    boxes[j][2] += boxes[j][0] # w -> xmax\n",
    "    boxes[j][3] += boxes[j][1] # h -> ymax\n",
    "    detections.append({\"class_index\": class_index[j], \"confidence\": confidences[j], \"box\": boxes[j]})\n",
    "len(detections)"
   ]
  },
  {
   "cell_type": "code",
   "execution_count": 48,
   "metadata": {},
   "outputs": [
    {
     "name": "stdout",
     "output_type": "stream",
     "text": [
      "(1011,)\n",
      "(1011,)\n",
      "(1011, 4)\n"
     ]
    }
   ],
   "source": [
    "print(class_index[indexes].shape)\n",
    "print(confidences[indexes].shape)\n",
    "print(boxes[indexes].shape)"
   ]
  },
  {
   "cell_type": "code",
   "execution_count": 59,
   "metadata": {},
   "outputs": [
    {
     "data": {
      "text/plain": [
       "(1011, 6)"
      ]
     },
     "execution_count": 59,
     "metadata": {},
     "output_type": "execute_result"
    }
   ],
   "source": [
    "detections = np.concatenate((np.expand_dims(class_index[indexes], 1), np.expand_dims(confidences[indexes], 1), boxes[indexes]), axis=-1)\n",
    "detections.shape"
   ]
  },
  {
   "cell_type": "code",
   "execution_count": 64,
   "metadata": {},
   "outputs": [
    {
     "name": "stdout",
     "output_type": "stream",
     "text": [
      "True\n",
      "True\n",
      "True\n"
     ]
    }
   ],
   "source": [
    "print(np.all(detections[:, 0] == class_index[indexes]))\n",
    "print(np.all(detections[:, 1] == confidences[indexes]))\n",
    "print(np.all(detections[:, 2:] == boxes[indexes]))"
   ]
  },
  {
   "cell_type": "code",
   "execution_count": 65,
   "metadata": {},
   "outputs": [
    {
     "data": {
      "text/plain": [
       "dtype('float64')"
      ]
     },
     "execution_count": 65,
     "metadata": {},
     "output_type": "execute_result"
    }
   ],
   "source": []
  },
  {
   "cell_type": "code",
   "execution_count": null,
   "metadata": {},
   "outputs": [],
   "source": []
  }
 ],
 "metadata": {
  "kernelspec": {
   "display_name": "pytorch",
   "language": "python",
   "name": "python3"
  },
  "language_info": {
   "codemirror_mode": {
    "name": "ipython",
    "version": 3
   },
   "file_extension": ".py",
   "mimetype": "text/x-python",
   "name": "python",
   "nbconvert_exporter": "python",
   "pygments_lexer": "ipython3",
   "version": "3.10.9"
  },
  "orig_nbformat": 4
 },
 "nbformat": 4,
 "nbformat_minor": 2
}
